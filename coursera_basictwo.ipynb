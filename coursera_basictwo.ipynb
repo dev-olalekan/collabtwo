{
  "nbformat": 4,
  "nbformat_minor": 0,
  "metadata": {
    "colab": {
      "provenance": []
    },
    "kernelspec": {
      "name": "python3",
      "display_name": "Python 3"
    },
    "language_info": {
      "name": "python"
    }
  },
  "cells": [
    {
      "cell_type": "code",
      "source": [
        "# Assign a variable named `system` to a specific operating system, represented as a string\n",
        "# This variable indicates which operating system is running\n",
        "# Feel free to run this cell multiple times; each time try assigning `system` to different values (\"OS 1\", \"OS 2\", \"OS 3\") and observe the result\n",
        "\n",
        "system = \"OS 2\"\n",
        "\n",
        "# If OS 2 is running, then display a \"no update needed\" message\n",
        "\n",
        "if system == \"OS 2\":\n",
        "    print(\"no update needed\")\n"
      ],
      "metadata": {
        "colab": {
          "base_uri": "https://localhost:8080/"
        },
        "id": "dOnJ_7v5DRt9",
        "outputId": "678fb373-8e1e-4153-d9de-073978caa72a"
      },
      "execution_count": null,
      "outputs": [
        {
          "output_type": "stream",
          "name": "stdout",
          "text": [
            "no update needed\n"
          ]
        }
      ]
    },
    {
      "cell_type": "code",
      "source": [
        "# Assign `system` to a specific operating system\n",
        "# This variable represents which operating system is running\n",
        "# Feel free to run this cell multiple times; each time try assigning `system` to different values (\"OS 1\", \"OS 2\", \"OS 3\") and observe the result\n",
        "\n",
        "system = \"OS 2\"\n",
        "\n",
        "# If OS 2 is running, then display a \"no update needed\" message\n",
        "\n",
        "if system == \"OS 2\":\n",
        "    print(\"no update needed\")\n"
      ],
      "metadata": {
        "colab": {
          "base_uri": "https://localhost:8080/"
        },
        "id": "9NM6eZ4MPQdf",
        "outputId": "80fb55cf-cb61-40ee-b0af-0d1874542262"
      },
      "execution_count": null,
      "outputs": [
        {
          "output_type": "stream",
          "name": "stdout",
          "text": [
            "no update needed\n"
          ]
        }
      ]
    },
    {
      "cell_type": "code",
      "source": [
        "# Assign `system` to a specific operating system\n",
        "# This variable represents which operating system is running\n",
        "\n",
        "system = \"### YOUR CODE HERE ###\"\n",
        "\n",
        "# If OS 2 is running, then display a \"no update needed\" message\n",
        "# Otherwise, display a \"update needed\" message\n",
        "\n",
        "if system == \"OS 2\":\n",
        "    print(\"no update needed\")\n",
        "else:\n",
        "    print(\"update needed\")\n"
      ],
      "metadata": {
        "colab": {
          "base_uri": "https://localhost:8080/"
        },
        "id": "qJxlE-1oDYCW",
        "outputId": "ee3767ef-68f9-47fb-aba2-46aea3058d7d"
      },
      "execution_count": null,
      "outputs": [
        {
          "output_type": "stream",
          "name": "stdout",
          "text": [
            "update needed\n"
          ]
        }
      ]
    },
    {
      "cell_type": "code",
      "source": [
        "# Assign `system` to a specific operating system\n",
        "# This variable represents which operating system is running\n",
        "\n",
        "system = \"OS 1\"\n",
        "\n",
        "# If OS 2 is running, then display a \"no update needed\" message\n",
        "# Otherwise if OS 1 is running, display a \"update needed\" message\n",
        "# Otherwise if OS 3 is running, display a \"update needed\" message\n",
        "\n",
        "if system == \"OS 2\":\n",
        "    print(\"no update needed\")\n",
        "elif system == \"OS 1\":\n",
        "    print(\"update needed\")\n",
        "elif system == \"OS 3\":\n",
        "    print(\"updated neededy\")"
      ],
      "metadata": {
        "colab": {
          "base_uri": "https://localhost:8080/"
        },
        "id": "8hCj7RFhHgZo",
        "outputId": "24841968-1069-430f-f82f-4a26d5663391"
      },
      "execution_count": null,
      "outputs": [
        {
          "output_type": "stream",
          "name": "stdout",
          "text": [
            "update needed\n"
          ]
        }
      ]
    },
    {
      "cell_type": "code",
      "source": [
        "# Assign `system` to a specific operating system\n",
        "# This variable represents which operating system is running\n",
        "\n",
        "system = \"OS 2\"\n",
        "\n",
        "# If OS 2 is running, then display a \"no update needed\" message\n",
        "# Otherwise if either OS 1 or OS 3 is running, display a \"update needed\" message\n",
        "\n",
        "if system == \"OS 2\":\n",
        "    print(\"no update needed\")\n",
        "elif system == \"OS 1\" or system == \"OS 3\":\n",
        "    print(\"update needed\")\n"
      ],
      "metadata": {
        "colab": {
          "base_uri": "https://localhost:8080/"
        },
        "id": "A-yfBOf4Pd-3",
        "outputId": "dbcd16f4-5240-40fd-be73-e0f48d95e401"
      },
      "execution_count": null,
      "outputs": [
        {
          "output_type": "stream",
          "name": "stdout",
          "text": [
            "no update needed\n"
          ]
        }
      ]
    },
    {
      "cell_type": "code",
      "source": [
        "# Assign `approved_user1` and `approved_user2` to usernames of approved users\n",
        "\n",
        "approved_user1 = \"elarson\"\n",
        "approved_user2 = \"bmoreno\"\n",
        "\n",
        "# Assign `username` to the username of a specific user trying to log in\n",
        "\n",
        "username = \"bmoreno\"\n",
        "\n",
        "# If the user trying to log in is among the approved users, then display a message that they are approved to access this device\n",
        "# Otherwise, display a message that they do not have access to this device\n",
        "\n",
        "if username == approved_user1 or approved_user2:\n",
        "    print(\"This user has access to this device.\")\n",
        "else:\n",
        "    print(\"This user does not have access to this device.\")\n"
      ],
      "metadata": {
        "colab": {
          "base_uri": "https://localhost:8080/"
        },
        "id": "17dFIZdFRKVP",
        "outputId": "288cad37-872a-4342-d510-21e4a2ebcf4f"
      },
      "execution_count": null,
      "outputs": [
        {
          "output_type": "stream",
          "name": "stdout",
          "text": [
            "This user has access to this device.\n"
          ]
        }
      ]
    },
    {
      "cell_type": "code",
      "source": [
        "# Assign `approved_list` to a list of approved usernames\n",
        "\n",
        "approved_list = [\"elarson\", \"bmoreno\", \"tshah\", \"sgilmore\", \"eraab\"]\n",
        "\n",
        "# Assign `username` to the username of a specific user trying to log in\n",
        "\n",
        "username = \"bmoreno\"\n",
        "\n",
        "# If the user trying to log in is among the approved users, then display a message that they are approved to access this device\n",
        "# Otherwise, display a message that they do not have access to this device\n",
        "\n",
        "if username in approved_list:\n",
        "    print(\"This user has access to this device.\")\n",
        "else:\n",
        "    print(\"This user does not have access to this device.\")"
      ],
      "metadata": {
        "id": "VV61f8gqT37X",
        "colab": {
          "base_uri": "https://localhost:8080/"
        },
        "outputId": "f9565530-521a-48b1-b2a7-6efdd81d0407"
      },
      "execution_count": null,
      "outputs": [
        {
          "output_type": "stream",
          "name": "stdout",
          "text": [
            "This user has access to this device.\n"
          ]
        }
      ]
    },
    {
      "cell_type": "code",
      "source": [
        "# Assign `organization_hours` to a Boolean value that represents whether the user is trying to log in during organization hours\n",
        "\n",
        "organization_hours = True\n",
        "\n",
        "# If the entered `organization_hours` has a value of True, then display \"Login attempt made during organization hours.\"\n",
        "# Otherwise, display \"Login attempt made outside of organization hours.\"\n",
        "\n",
        "if  organization_hours:\n",
        "    print(\"Login attempt made during organization hours.\")\n",
        "else:\n",
        "    print(\"Login attempt made outside of organization hours.\")\n"
      ],
      "metadata": {
        "colab": {
          "base_uri": "https://localhost:8080/"
        },
        "id": "STskSN6nWDuD",
        "outputId": "a355c534-1397-410d-ce22-7eee12399a9c"
      },
      "execution_count": null,
      "outputs": [
        {
          "output_type": "stream",
          "name": "stdout",
          "text": [
            "Login attempt made during organization hours.\n"
          ]
        }
      ]
    },
    {
      "cell_type": "code",
      "source": [
        "# Assign `approved_list` to a list of approved usernames\n",
        "\n",
        "approved_list = [\"elarson\", \"bmoreno\", \"tshah\", \"sgilmore\", \"eraab\"]\n",
        "\n",
        "# Assign `username` to the username of a specific user trying to log in\n",
        "\n",
        "username = \"bmoreno\"\n",
        "\n",
        "# If the user trying to log in is among the approved users, then display a message that they are approved to access this device\n",
        "# Otherwise, display a message that they do not have access to this device\n",
        "\n",
        "if username in approved_list:\n",
        "    print(\"This user has access to this device.\")\n",
        "\n",
        "else:\n",
        "    print(\"This user does not have access to this device.\")\n",
        "\n",
        "# Assign `organization_hours` to a Boolean value that represents whether the user is trying to log in during organization hours\n",
        "\n",
        "organization_hours = True\n",
        "\n",
        "# If the entered `organization_hours` has a value of True, then display \"Login attempt made during organization hours.\"\n",
        "# Otherwise, display \"Login attempt made outside of organization hours.\"\n",
        "\n",
        "if organization_hours == True:\n",
        "    print(\"Login attempt made during organization hours.\")\n",
        "else:\n",
        "    print(\"Login attempt made outside of organization hours.\")\n"
      ],
      "metadata": {
        "colab": {
          "base_uri": "https://localhost:8080/"
        },
        "id": "joFGLOFbmCAq",
        "outputId": "c8dc104e-66a0-48c2-cf3d-bb29744ccff3"
      },
      "execution_count": null,
      "outputs": [
        {
          "output_type": "stream",
          "name": "stdout",
          "text": [
            "This user has access to this device.\n",
            "Login attempt made during organization hours.\n"
          ]
        }
      ]
    },
    {
      "cell_type": "code",
      "source": [
        "# Assign `approved_list` to a list of approved usernames\n",
        "\n",
        "approved_list = [\"elarson\", \"bmoreno\", \"tshah\", \"sgilmore\", \"eraab\"]\n",
        "\n",
        "# Assign `username` to the username of a specific user trying to log in\n",
        "\n",
        "username = \"bmoreno\"\n",
        "\n",
        "# Assign `organization_hours` to a Boolean value that represents whether the user is trying to log in during organization hours\n",
        "\n",
        "organization_hours = True\n",
        "\n",
        "# If the user is among the approved users and they are logging in during organization hours, then convey that the user is logged in\n",
        "# Otherwise, convey that either the username is not approved or the login attempt was made outside of organization hours\n",
        "\n",
        "if username in approved_list and organization_hours == True:\n",
        "    print(\"Login attempt made by an approved user during organization hours.\")\n",
        "else:\n",
        "    print(\"Username not approved or login attempt made outside of organization hours.\")"
      ],
      "metadata": {
        "id": "7PDcBokdmEhJ"
      },
      "execution_count": null,
      "outputs": []
    }
  ]
}